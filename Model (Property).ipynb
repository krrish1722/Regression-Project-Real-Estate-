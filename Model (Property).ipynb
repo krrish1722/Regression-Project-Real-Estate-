{
 "cells": [
  {
   "cell_type": "code",
   "execution_count": 48,
   "id": "f68a44e4-88f0-4087-a572-3c8228636525",
   "metadata": {},
   "outputs": [],
   "source": [
    "import pandas as pd\n",
    "import numpy as np\n",
    "import matplotlib.pyplot as plt\n",
    "import seaborn as sns"
   ]
  },
  {
   "cell_type": "code",
   "execution_count": 2,
   "id": "dc8af9e9-03d5-41e6-99e9-632c305ac704",
   "metadata": {},
   "outputs": [],
   "source": [
    "ppt = pd.read_csv(r\"E:\\Python basics\\Pranjal Sir\\Pandas Data Sets\\Property_Price_Train.csv\")"
   ]
  },
  {
   "cell_type": "code",
   "execution_count": 3,
   "id": "08bba0ca-32ad-480e-8c55-6357d9fd004f",
   "metadata": {},
   "outputs": [
    {
     "data": {
      "text/html": [
       "<div>\n",
       "<style scoped>\n",
       "    .dataframe tbody tr th:only-of-type {\n",
       "        vertical-align: middle;\n",
       "    }\n",
       "\n",
       "    .dataframe tbody tr th {\n",
       "        vertical-align: top;\n",
       "    }\n",
       "\n",
       "    .dataframe thead th {\n",
       "        text-align: right;\n",
       "    }\n",
       "</style>\n",
       "<table border=\"1\" class=\"dataframe\">\n",
       "  <thead>\n",
       "    <tr style=\"text-align: right;\">\n",
       "      <th></th>\n",
       "      <th>Id</th>\n",
       "      <th>Building_Class</th>\n",
       "      <th>Zoning_Class</th>\n",
       "      <th>Lot_Extent</th>\n",
       "      <th>Lot_Size</th>\n",
       "      <th>Road_Type</th>\n",
       "      <th>Lane_Type</th>\n",
       "      <th>Property_Shape</th>\n",
       "      <th>Land_Outline</th>\n",
       "      <th>Utility_Type</th>\n",
       "      <th>...</th>\n",
       "      <th>Pool_Area</th>\n",
       "      <th>Pool_Quality</th>\n",
       "      <th>Fence_Quality</th>\n",
       "      <th>Miscellaneous_Feature</th>\n",
       "      <th>Miscellaneous_Value</th>\n",
       "      <th>Month_Sold</th>\n",
       "      <th>Year_Sold</th>\n",
       "      <th>Sale_Type</th>\n",
       "      <th>Sale_Condition</th>\n",
       "      <th>Sale_Price</th>\n",
       "    </tr>\n",
       "  </thead>\n",
       "  <tbody>\n",
       "    <tr>\n",
       "      <th>0</th>\n",
       "      <td>1</td>\n",
       "      <td>60</td>\n",
       "      <td>RLD</td>\n",
       "      <td>65.0</td>\n",
       "      <td>8450</td>\n",
       "      <td>Paved</td>\n",
       "      <td>NaN</td>\n",
       "      <td>Reg</td>\n",
       "      <td>Lvl</td>\n",
       "      <td>AllPub</td>\n",
       "      <td>...</td>\n",
       "      <td>0</td>\n",
       "      <td>NaN</td>\n",
       "      <td>NaN</td>\n",
       "      <td>NaN</td>\n",
       "      <td>0</td>\n",
       "      <td>2</td>\n",
       "      <td>2008</td>\n",
       "      <td>WD</td>\n",
       "      <td>Normal</td>\n",
       "      <td>208500</td>\n",
       "    </tr>\n",
       "    <tr>\n",
       "      <th>1</th>\n",
       "      <td>2</td>\n",
       "      <td>20</td>\n",
       "      <td>RLD</td>\n",
       "      <td>80.0</td>\n",
       "      <td>9600</td>\n",
       "      <td>Paved</td>\n",
       "      <td>NaN</td>\n",
       "      <td>Reg</td>\n",
       "      <td>Lvl</td>\n",
       "      <td>AllPub</td>\n",
       "      <td>...</td>\n",
       "      <td>0</td>\n",
       "      <td>NaN</td>\n",
       "      <td>NaN</td>\n",
       "      <td>NaN</td>\n",
       "      <td>0</td>\n",
       "      <td>5</td>\n",
       "      <td>2007</td>\n",
       "      <td>WD</td>\n",
       "      <td>Normal</td>\n",
       "      <td>181500</td>\n",
       "    </tr>\n",
       "    <tr>\n",
       "      <th>2</th>\n",
       "      <td>3</td>\n",
       "      <td>60</td>\n",
       "      <td>RLD</td>\n",
       "      <td>68.0</td>\n",
       "      <td>11250</td>\n",
       "      <td>Paved</td>\n",
       "      <td>NaN</td>\n",
       "      <td>IR1</td>\n",
       "      <td>Lvl</td>\n",
       "      <td>AllPub</td>\n",
       "      <td>...</td>\n",
       "      <td>0</td>\n",
       "      <td>NaN</td>\n",
       "      <td>NaN</td>\n",
       "      <td>NaN</td>\n",
       "      <td>0</td>\n",
       "      <td>9</td>\n",
       "      <td>2008</td>\n",
       "      <td>WD</td>\n",
       "      <td>Normal</td>\n",
       "      <td>223500</td>\n",
       "    </tr>\n",
       "    <tr>\n",
       "      <th>3</th>\n",
       "      <td>4</td>\n",
       "      <td>70</td>\n",
       "      <td>RLD</td>\n",
       "      <td>60.0</td>\n",
       "      <td>9550</td>\n",
       "      <td>Paved</td>\n",
       "      <td>NaN</td>\n",
       "      <td>IR1</td>\n",
       "      <td>Lvl</td>\n",
       "      <td>AllPub</td>\n",
       "      <td>...</td>\n",
       "      <td>0</td>\n",
       "      <td>NaN</td>\n",
       "      <td>NaN</td>\n",
       "      <td>NaN</td>\n",
       "      <td>0</td>\n",
       "      <td>2</td>\n",
       "      <td>2006</td>\n",
       "      <td>WD</td>\n",
       "      <td>Abnorml</td>\n",
       "      <td>140000</td>\n",
       "    </tr>\n",
       "    <tr>\n",
       "      <th>4</th>\n",
       "      <td>5</td>\n",
       "      <td>60</td>\n",
       "      <td>RLD</td>\n",
       "      <td>84.0</td>\n",
       "      <td>14260</td>\n",
       "      <td>Paved</td>\n",
       "      <td>NaN</td>\n",
       "      <td>IR1</td>\n",
       "      <td>Lvl</td>\n",
       "      <td>AllPub</td>\n",
       "      <td>...</td>\n",
       "      <td>0</td>\n",
       "      <td>NaN</td>\n",
       "      <td>NaN</td>\n",
       "      <td>NaN</td>\n",
       "      <td>0</td>\n",
       "      <td>12</td>\n",
       "      <td>2008</td>\n",
       "      <td>WD</td>\n",
       "      <td>Normal</td>\n",
       "      <td>250000</td>\n",
       "    </tr>\n",
       "  </tbody>\n",
       "</table>\n",
       "<p>5 rows × 81 columns</p>\n",
       "</div>"
      ],
      "text/plain": [
       "   Id  Building_Class Zoning_Class  Lot_Extent  Lot_Size Road_Type Lane_Type  \\\n",
       "0   1              60          RLD        65.0      8450     Paved       NaN   \n",
       "1   2              20          RLD        80.0      9600     Paved       NaN   \n",
       "2   3              60          RLD        68.0     11250     Paved       NaN   \n",
       "3   4              70          RLD        60.0      9550     Paved       NaN   \n",
       "4   5              60          RLD        84.0     14260     Paved       NaN   \n",
       "\n",
       "  Property_Shape Land_Outline Utility_Type  ... Pool_Area Pool_Quality  \\\n",
       "0            Reg          Lvl       AllPub  ...         0          NaN   \n",
       "1            Reg          Lvl       AllPub  ...         0          NaN   \n",
       "2            IR1          Lvl       AllPub  ...         0          NaN   \n",
       "3            IR1          Lvl       AllPub  ...         0          NaN   \n",
       "4            IR1          Lvl       AllPub  ...         0          NaN   \n",
       "\n",
       "  Fence_Quality Miscellaneous_Feature Miscellaneous_Value Month_Sold  \\\n",
       "0           NaN                   NaN                   0          2   \n",
       "1           NaN                   NaN                   0          5   \n",
       "2           NaN                   NaN                   0          9   \n",
       "3           NaN                   NaN                   0          2   \n",
       "4           NaN                   NaN                   0         12   \n",
       "\n",
       "  Year_Sold  Sale_Type  Sale_Condition  Sale_Price  \n",
       "0      2008         WD          Normal      208500  \n",
       "1      2007         WD          Normal      181500  \n",
       "2      2008         WD          Normal      223500  \n",
       "3      2006         WD         Abnorml      140000  \n",
       "4      2008         WD          Normal      250000  \n",
       "\n",
       "[5 rows x 81 columns]"
      ]
     },
     "execution_count": 3,
     "metadata": {},
     "output_type": "execute_result"
    }
   ],
   "source": [
    "ppt.head()"
   ]
  },
  {
   "cell_type": "code",
   "execution_count": 4,
   "id": "be8c10a0-80e0-415f-a749-2ca83ba6491e",
   "metadata": {},
   "outputs": [
    {
     "data": {
      "text/plain": [
       "Lot_Extent                259\n",
       "Lane_Type                1368\n",
       "Brick_Veneer_Type           8\n",
       "Brick_Veneer_Area           8\n",
       "Basement_Height            37\n",
       "Basement_Condition         37\n",
       "Exposure_Level             38\n",
       "BsmtFinType1               37\n",
       "BsmtFinType2               38\n",
       "Electrical_System           1\n",
       "Fireplace_Quality         689\n",
       "Garage                     81\n",
       "Garage_Built_Year          81\n",
       "Garage_Finish_Year         81\n",
       "Garage_Quality             81\n",
       "Garage_Condition           81\n",
       "Pool_Quality             1452\n",
       "Fence_Quality            1178\n",
       "Miscellaneous_Feature    1405\n",
       "dtype: int64"
      ]
     },
     "execution_count": 4,
     "metadata": {},
     "output_type": "execute_result"
    }
   ],
   "source": [
    "ppt.isnull().sum()[ppt.isnull().sum() > 0]"
   ]
  },
  {
   "cell_type": "code",
   "execution_count": 5,
   "id": "c21a6296-5762-4efa-a024-6d4b99db01c9",
   "metadata": {},
   "outputs": [],
   "source": [
    "# lets remove thr those cols which have high percentage of nulls."
   ]
  },
  {
   "cell_type": "code",
   "execution_count": 6,
   "id": "9fbb3aec-7c52-4ff0-8d02-4a3aa51516cf",
   "metadata": {},
   "outputs": [
    {
     "data": {
      "text/plain": [
       "Lane_Type                1368\n",
       "Fireplace_Quality         689\n",
       "Pool_Quality             1452\n",
       "Fence_Quality            1178\n",
       "Miscellaneous_Feature    1405\n",
       "dtype: int64"
      ]
     },
     "execution_count": 6,
     "metadata": {},
     "output_type": "execute_result"
    }
   ],
   "source": [
    "ppt.isnull().sum()[ppt.isnull().sum()*100 / ppt.shape[0] > 40]"
   ]
  },
  {
   "cell_type": "code",
   "execution_count": 7,
   "id": "ac03225d-1db5-4849-b496-038a1e48a50e",
   "metadata": {},
   "outputs": [],
   "source": [
    "ppt = ppt.drop(['Lane_Type','Fireplace_Quality','Pool_Quality','Fence_Quality','Miscellaneous_Feature','Id'], axis =1)"
   ]
  },
  {
   "cell_type": "code",
   "execution_count": 8,
   "id": "1776a32c-c6fe-4a48-963d-bedbec85a6a0",
   "metadata": {
    "tags": []
   },
   "outputs": [
    {
     "data": {
      "text/plain": [
       "Index(['Zoning_Class', 'Road_Type', 'Property_Shape', 'Land_Outline',\n",
       "       'Utility_Type', 'Lot_Configuration', 'Property_Slope', 'Neighborhood',\n",
       "       'Condition1', 'Condition2', 'House_Type', 'House_Design', 'Roof_Design',\n",
       "       'Roof_Quality', 'Exterior1st', 'Exterior2nd', 'Brick_Veneer_Type',\n",
       "       'Exterior_Material', 'Exterior_Condition', 'Foundation_Type',\n",
       "       'Basement_Height', 'Basement_Condition', 'Exposure_Level',\n",
       "       'BsmtFinType1', 'BsmtFinType2', 'Heating_Type', 'Heating_Quality',\n",
       "       'Air_Conditioning', 'Electrical_System', 'Kitchen_Quality',\n",
       "       'Functional_Rate', 'Garage', 'Garage_Finish_Year', 'Garage_Quality',\n",
       "       'Garage_Condition', 'Pavedd_Drive', 'Sale_Type', 'Sale_Condition'],\n",
       "      dtype='object')"
      ]
     },
     "execution_count": 8,
     "metadata": {},
     "output_type": "execute_result"
    }
   ],
   "source": [
    "ppt.columns[ppt.dtypes == 'object']"
   ]
  },
  {
   "cell_type": "code",
   "execution_count": 9,
   "id": "f965e907-2530-489b-a146-17155780f5d7",
   "metadata": {},
   "outputs": [],
   "source": [
    "from sklearn.preprocessing import LabelEncoder\n",
    "le = LabelEncoder()"
   ]
  },
  {
   "cell_type": "code",
   "execution_count": 10,
   "id": "82e26d5c-1421-4d2b-a5ae-874adf1aea05",
   "metadata": {},
   "outputs": [],
   "source": [
    "ppt.Zoning_Class = le.fit_transform(ppt.Zoning_Class)"
   ]
  },
  {
   "cell_type": "code",
   "execution_count": 11,
   "id": "96fe767e-e6ea-431d-a6b7-0345fe2998ba",
   "metadata": {},
   "outputs": [],
   "source": [
    "ppt[ppt.select_dtypes(include = 'object').columns] = ppt[ppt.select_dtypes(include = 'object').columns].apply(le.fit_transform)"
   ]
  },
  {
   "cell_type": "code",
   "execution_count": 12,
   "id": "09710c94-a65a-41b9-840c-819eef970196",
   "metadata": {},
   "outputs": [],
   "source": [
    "ppt.Lot_Extent.fillna(int(ppt.Lot_Extent.mean()), inplace = True)\n",
    "ppt.Brick_Veneer_Type.fillna(ppt.Brick_Veneer_Type.max(), inplace = True)\n",
    "ppt.Brick_Veneer_Area.fillna(int(ppt.Brick_Veneer_Area.mean()),inplace = True)\n",
    "ppt.Basement_Height.fillna(ppt.Basement_Height.max(),inplace = True)\n",
    "ppt.Basement_Condition.fillna(ppt.Basement_Condition.max(), inplace = True)\n",
    "ppt.Exposure_Level.fillna(ppt.Exposure_Level.max(),inplace = True)\n",
    "ppt.BsmtFinType1.fillna(ppt.BsmtFinType1.max(), inplace = True)\n",
    "ppt.BsmtFinType2.fillna(ppt.BsmtFinType2.max(), inplace = True)\n",
    "ppt.Electrical_System.fillna(ppt.Electrical_System.max(), inplace = True)\n",
    "ppt.Garage.fillna(ppt.Garage.max(), inplace = True)\n",
    "ppt.Garage_Built_Year.fillna(int(ppt.Garage_Built_Year.mean()), inplace = True)\n",
    "ppt.Garage_Finish_Year.fillna(ppt.Garage_Finish_Year.max(), inplace = True)\n",
    "ppt.Garage_Quality.fillna(ppt.Garage_Quality.max(), inplace = True)\n",
    "ppt.Garage_Condition.fillna(ppt.Garage_Condition.max(), inplace = True)\n"
   ]
  },
  {
   "cell_type": "markdown",
   "id": "a1afe867-738d-47fe-abf3-c37bc7d22017",
   "metadata": {},
   "source": [
    "#### Distributions of numeric features"
   ]
  },
  {
   "cell_type": "code",
   "execution_count": 18,
   "id": "af7eb14d-c219-4d10-b623-4436b7bc47fe",
   "metadata": {},
   "outputs": [
    {
     "data": {
      "image/png": "[encoded data removed]",
      "text/plain": [
       "<Figure size 1440x2016 with 81 Axes>"
      ]
     },
     "metadata": {
      "needs_background": "light"
     },
     "output_type": "display_data"
    }
   ],
   "source": [
    "# Plot histogram grid\n",
    "ppt.hist(figsize=(20,28), xrot=-45)\n",
    "\n",
    "# Clear the text \"residue\"\n",
    "plt.show()"
   ]
  },
  {
   "cell_type": "code",
   "execution_count": null,
   "id": "3edeb90c-8f2f-4a1a-b44b-bf8fcf44b2b0",
   "metadata": {},
   "outputs": [],
   "source": []
  },
  {
   "cell_type": "markdown",
   "id": "f37425b7-0527-4707-b356-4522a035fd57",
   "metadata": {},
   "source": [
    "### Random Sampling"
   ]
  },
  {
   "cell_type": "code",
   "execution_count": 21,
   "id": "2e38fbef-dc7d-4a88-bd7b-8483d24bca87",
   "metadata": {},
   "outputs": [],
   "source": [
    "from sklearn.model_selection import train_test_split"
   ]
  },
  {
   "cell_type": "code",
   "execution_count": 22,
   "id": "562a19ea-1c16-4e50-b7bd-180156be28e1",
   "metadata": {},
   "outputs": [],
   "source": [
    "ppt_train, ppt_test = train_test_split(ppt, test_size= .2)"
   ]
  },
  {
   "cell_type": "code",
   "execution_count": 23,
   "id": "632e7cbb-5bd0-46d3-85e9-4dbb1c9b870e",
   "metadata": {},
   "outputs": [],
   "source": [
    "ppt_train_x = ppt_train.iloc[: , 0:-1]\n",
    "ppt_train_y = ppt_train.iloc[: , -1]\n",
    "\n",
    "ppt_test_x = ppt_test.iloc[: , 0:-1]\n",
    "ppt_test_y = ppt_test.iloc[: , -1]"
   ]
  },
  {
   "cell_type": "code",
   "execution_count": 24,
   "id": "779149ac-5f11-4a0a-bcdf-955d4ca21ce7",
   "metadata": {},
   "outputs": [
    {
     "name": "stdout",
     "output_type": "stream",
     "text": [
      "(1167, 74) (1167,)\n"
     ]
    }
   ],
   "source": [
    "print(ppt_train_x.shape, ppt_train_y.shape)"
   ]
  },
  {
   "cell_type": "code",
   "execution_count": 25,
   "id": "cbe9611b-e133-4700-9ff7-2aea2aa14e0f",
   "metadata": {},
   "outputs": [
    {
     "name": "stdout",
     "output_type": "stream",
     "text": [
      "(292, 74) (292,)\n"
     ]
    }
   ],
   "source": [
    "print(ppt_test_x.shape, ppt_test_y.shape)"
   ]
  },
  {
   "cell_type": "code",
   "execution_count": null,
   "id": "f0a08dcb-6dda-4946-967e-f23cbb6c6986",
   "metadata": {},
   "outputs": [],
   "source": []
  },
  {
   "cell_type": "markdown",
   "id": "c32e3db9-e105-4165-95d5-634f9df8096c",
   "metadata": {},
   "source": [
    "### Linear Regression"
   ]
  },
  {
   "cell_type": "code",
   "execution_count": 160,
   "id": "af67b423-1620-449e-84ac-0ec90ebfe570",
   "metadata": {},
   "outputs": [],
   "source": [
    "from sklearn.linear_model import LinearRegression\n",
    "linreg = LinearRegression()"
   ]
  },
  {
   "cell_type": "code",
   "execution_count": 161,
   "id": "bcb9e80e-d868-4114-874a-d41f539441cd",
   "metadata": {},
   "outputs": [
    {
     "data": {
      "text/plain": [
       "LinearRegression()"
      ]
     },
     "execution_count": 161,
     "metadata": {},
     "output_type": "execute_result"
    }
   ],
   "source": [
    "linreg.fit(ppt_train_x, ppt_train_y)"
   ]
  },
  {
   "cell_type": "code",
   "execution_count": 162,
   "id": "31ab33f2-465b-44d1-898a-62283a8e6392",
   "metadata": {},
   "outputs": [],
   "source": [
    "pred = linreg.predict(ppt_test_x)"
   ]
  },
  {
   "cell_type": "code",
   "execution_count": 163,
   "id": "1b86664b-399a-493f-a707-017b63530749",
   "metadata": {},
   "outputs": [
    {
     "data": {
      "text/plain": [
       "0.8520997636154911"
      ]
     },
     "execution_count": 163,
     "metadata": {},
     "output_type": "execute_result"
    }
   ],
   "source": [
    "Rsquare = linreg.score(ppt_train_x, ppt_train_y)\n",
    "Rsquare"
   ]
  },
  {
   "cell_type": "code",
   "execution_count": 164,
   "id": "66fadfe9-de05-4b48-acdf-d3d476ab7781",
   "metadata": {},
   "outputs": [],
   "source": [
    "# 84% of the model is explaining the total variance. "
   ]
  },
  {
   "cell_type": "code",
   "execution_count": 165,
   "id": "4c44eaf0-e666-43dd-bf85-d2caf30618ab",
   "metadata": {},
   "outputs": [
    {
     "data": {
      "text/plain": [
       "0.8420772201242332"
      ]
     },
     "execution_count": 165,
     "metadata": {},
     "output_type": "execute_result"
    }
   ],
   "source": [
    "N = ppt_train_x.shape[0]\n",
    "K = ppt_train_x.shape[1]\n",
    "\n",
    "AdjRsquare = 1-(1-Rsquare)*(N-1)/(N-K-1)\n",
    "AdjRsquare"
   ]
  },
  {
   "cell_type": "code",
   "execution_count": 166,
   "id": "c9012fe7-3364-41b4-bc07-b5938a962c64",
   "metadata": {},
   "outputs": [],
   "source": [
    "# Assumptions :-"
   ]
  },
  {
   "cell_type": "code",
   "execution_count": 167,
   "id": "959bfc21-56be-4ea2-8612-92055abdef08",
   "metadata": {},
   "outputs": [],
   "source": [
    "pred_train = linreg.predict(ppt_train_x)"
   ]
  },
  {
   "cell_type": "code",
   "execution_count": 168,
   "id": "7a2eb362-8ecc-499c-94a7-caa7a503ed06",
   "metadata": {},
   "outputs": [
    {
     "data": {
      "text/plain": [
       "642     17840.907500\n",
       "267      -650.675399\n",
       "284      -208.025510\n",
       "738     49205.013146\n",
       "710     -4591.740372\n",
       "            ...     \n",
       "947    -11988.688943\n",
       "356     -5551.663538\n",
       "322     17430.736298\n",
       "828    -27701.676103\n",
       "1259   -17610.347594\n",
       "Name: Sale_Price, Length: 1167, dtype: float64"
      ]
     },
     "execution_count": 168,
     "metadata": {},
     "output_type": "execute_result"
    }
   ],
   "source": [
    "err_train = ppt_train_y - pred_train\n",
    "err_train"
   ]
  },
  {
   "cell_type": "code",
   "execution_count": 169,
   "id": "98467a11-bd65-4154-be6e-7bdea47f14e0",
   "metadata": {},
   "outputs": [],
   "source": [
    "import numpy as np"
   ]
  },
  {
   "cell_type": "code",
   "execution_count": 170,
   "id": "672aafe4-baeb-4081-9b0b-936411e8e498",
   "metadata": {},
   "outputs": [
    {
     "data": {
      "text/plain": [
       "-2.0948772565258193e-11"
      ]
     },
     "execution_count": 170,
     "metadata": {},
     "output_type": "execute_result"
    }
   ],
   "source": [
    "np.mean(err_train)"
   ]
  },
  {
   "cell_type": "code",
   "execution_count": 171,
   "id": "d67001f1-0eff-44b1-971c-5a621b84065d",
   "metadata": {},
   "outputs": [],
   "source": [
    "import matplotlib.pyplot as plt"
   ]
  },
  {
   "cell_type": "code",
   "execution_count": 172,
   "id": "a0d5d664-9fdf-4b6f-9212-125832420a5a",
   "metadata": {},
   "outputs": [
    {
     "data": {
      "image/png": "[encoded data removed]",
      "text/plain": [
       "<Figure size 432x288 with 1 Axes>"
      ]
     },
     "metadata": {
      "needs_background": "light"
     },
     "output_type": "display_data"
    }
   ],
   "source": [
    "plt.hist(err_train);"
   ]
  },
  {
   "cell_type": "code",
   "execution_count": 173,
   "id": "7ed269af-2175-4dbd-abc4-e89ed5bd131e",
   "metadata": {},
   "outputs": [
    {
     "data": {
      "image/png": "[encoded data removed]",
      "text/plain": [
       "<Figure size 432x288 with 1 Axes>"
      ]
     },
     "metadata": {
      "needs_background": "light"
     },
     "output_type": "display_data"
    }
   ],
   "source": [
    "plt.plot(err_train,'*');"
   ]
  },
  {
   "cell_type": "code",
   "execution_count": 174,
   "id": "d981b895-9fd5-4976-900c-344313b7b079",
   "metadata": {},
   "outputs": [],
   "source": [
    "pred_actual = pd.DataFrame()"
   ]
  },
  {
   "cell_type": "code",
   "execution_count": 175,
   "id": "ab1748e2-9f92-499e-b4f1-f2586615b2e8",
   "metadata": {},
   "outputs": [],
   "source": [
    "pred_actual['actual'] = ppt_train_y\n",
    "pred_actual['predicted'] = pred_train"
   ]
  },
  {
   "cell_type": "code",
   "execution_count": 176,
   "id": "6b23e4a8-c03b-4116-8d08-84fbf7e797cb",
   "metadata": {},
   "outputs": [],
   "source": [
    "import seaborn as sns"
   ]
  },
  {
   "cell_type": "code",
   "execution_count": 177,
   "id": "5fcb0d41-1920-41e4-81c8-b9cdf821514e",
   "metadata": {},
   "outputs": [
    {
     "data": {
      "image/png": "[encoded data removed]",
      "text/plain": [
       "<Figure size 432x288 with 1 Axes>"
      ]
     },
     "metadata": {
      "needs_background": "light"
     },
     "output_type": "display_data"
    }
   ],
   "source": [
    "sns.regplot(x='actual', y='predicted', data = pred_actual);"
   ]
  },
  {
   "cell_type": "code",
   "execution_count": 178,
   "id": "ce9e0e93-b685-4764-8f90-71bc032591af",
   "metadata": {},
   "outputs": [],
   "source": [
    "pred_test = linreg.predict(ppt_test_x)\n",
    "err_test = ppt_test_y - pred_test"
   ]
  },
  {
   "cell_type": "code",
   "execution_count": 179,
   "id": "13bd3550-9254-4254-beaf-5313a2f194e2",
   "metadata": {},
   "outputs": [
    {
     "data": {
      "text/plain": [
       "939923713.0193383"
      ]
     },
     "execution_count": 179,
     "metadata": {},
     "output_type": "execute_result"
    }
   ],
   "source": [
    "MSE = np.mean(np.square(err_test))\n",
    "MSE"
   ]
  },
  {
   "cell_type": "code",
   "execution_count": 180,
   "id": "963692ae-5533-4bb2-8c3d-3696fe985770",
   "metadata": {},
   "outputs": [
    {
     "data": {
      "text/plain": [
       "30658.175304791675"
      ]
     },
     "execution_count": 180,
     "metadata": {},
     "output_type": "execute_result"
    }
   ],
   "source": [
    "RMSE = np.sqrt(MSE)\n",
    "RMSE"
   ]
  },
  {
   "cell_type": "code",
   "execution_count": 181,
   "id": "b8d3b727-b49b-43fd-a163-4e9b0ccf3b43",
   "metadata": {},
   "outputs": [],
   "source": [
    "MAPE = np.mean(np.abs(err_test*100/ppt_test_y))"
   ]
  },
  {
   "cell_type": "code",
   "execution_count": 182,
   "id": "ea4ec58a-b6a5-465c-b989-1b83b4044032",
   "metadata": {},
   "outputs": [
    {
     "data": {
      "text/plain": [
       "11.95987247756153"
      ]
     },
     "execution_count": 182,
     "metadata": {},
     "output_type": "execute_result"
    }
   ],
   "source": [
    "MAPE"
   ]
  },
  {
   "cell_type": "markdown",
   "id": "0935ab03-aa11-4b17-8b68-42c0783933a0",
   "metadata": {},
   "source": [
    "#### Removing Outliers"
   ]
  },
  {
   "cell_type": "code",
   "execution_count": 26,
   "id": "4537ff11-e583-41f1-9a8e-61b654ace353",
   "metadata": {},
   "outputs": [],
   "source": [
    "def remove_outliers(df,  col, k  ):   \n",
    "    mean = df[col].mean()\n",
    "    global df1\n",
    "    sd = df[col].std()    \n",
    "    final_list = [x for x in df[col] if (x > mean - k * sd)]\n",
    "    final_list = [x for x in final_list if (x < mean + k * sd)]         \n",
    "    df1 = df.loc[df[col].isin(final_list)] ; print(df1.shape)     \n",
    "    print(\"Number of outliers removed == >\"   ,  df.shape[0]  - df1.shape[0])\n"
   ]
  },
  {
   "cell_type": "code",
   "execution_count": 27,
   "id": "7a9acdfa-482c-4f9c-bb32-ab8613b72a22",
   "metadata": {},
   "outputs": [
    {
     "name": "stdout",
     "output_type": "stream",
     "text": [
      "(1396, 75)\n",
      "Number of outliers removed == > 63\n"
     ]
    }
   ],
   "source": [
    "remove_outliers(ppt, 'Sale_Price',2)"
   ]
  },
  {
   "cell_type": "markdown",
   "id": "ed78500b-a3ea-4065-96cc-4f9dccca7ab8",
   "metadata": {},
   "source": [
    "#### Co-relation (independent and target variable)"
   ]
  },
  {
   "cell_type": "code",
   "execution_count": 49,
   "id": "e208db3b-a7cd-4470-bbe7-f93db07d08d8",
   "metadata": {},
   "outputs": [],
   "source": [
    "# if a corelation b/w a x cloumn and your y column is close to zero then there is no point using that col for model bilding ???"
   ]
  },
  {
   "cell_type": "code",
   "execution_count": 50,
   "id": "4a4416bc-2e2b-4854-bf2e-de4cb574a235",
   "metadata": {},
   "outputs": [],
   "source": [
    "x_col = ppt_train_x.columns"
   ]
  },
  {
   "cell_type": "code",
   "execution_count": 51,
   "id": "de97930d-7b45-42d4-aa94-9a507769d292",
   "metadata": {
    "tags": []
   },
   "outputs": [],
   "source": [
    "cor_list = []\n",
    "for col in x_col:\n",
    "    cor_list.append(ppt.Sale_Price.corr(ppt[col]))"
   ]
  },
  {
   "cell_type": "code",
   "execution_count": 52,
   "id": "4321dd1d-8fc5-4561-ace1-e99f7cb834a8",
   "metadata": {},
   "outputs": [],
   "source": [
    "cols_corr    = pd.DataFrame()\n",
    "cols_corr['Columns'] = x_col\n",
    "cols_corr['Corelation'] = cor_list"
   ]
  },
  {
   "cell_type": "code",
   "execution_count": 53,
   "id": "8a916f81-b7d4-4ef5-b1f1-a4d8d82ac41a",
   "metadata": {
    "tags": []
   },
   "outputs": [
    {
     "data": {
      "text/html": [
       "<div>\n",
       "<style scoped>\n",
       "    .dataframe tbody tr th:only-of-type {\n",
       "        vertical-align: middle;\n",
       "    }\n",
       "\n",
       "    .dataframe tbody tr th {\n",
       "        vertical-align: top;\n",
       "    }\n",
       "\n",
       "    .dataframe thead th {\n",
       "        text-align: right;\n",
       "    }\n",
       "</style>\n",
       "<table border=\"1\" class=\"dataframe\">\n",
       "  <thead>\n",
       "    <tr style=\"text-align: right;\">\n",
       "      <th></th>\n",
       "      <th>Columns</th>\n",
       "      <th>Corelation</th>\n",
       "    </tr>\n",
       "  </thead>\n",
       "  <tbody>\n",
       "    <tr>\n",
       "      <th>0</th>\n",
       "      <td>Building_Class</td>\n",
       "      <td>-0.084563</td>\n",
       "    </tr>\n",
       "    <tr>\n",
       "      <th>1</th>\n",
       "      <td>Zoning_Class</td>\n",
       "      <td>-0.166896</td>\n",
       "    </tr>\n",
       "    <tr>\n",
       "      <th>2</th>\n",
       "      <td>Lot_Extent</td>\n",
       "      <td>0.334988</td>\n",
       "    </tr>\n",
       "    <tr>\n",
       "      <th>3</th>\n",
       "      <td>Lot_Size</td>\n",
       "      <td>0.263843</td>\n",
       "    </tr>\n",
       "    <tr>\n",
       "      <th>4</th>\n",
       "      <td>Road_Type</td>\n",
       "      <td>0.041057</td>\n",
       "    </tr>\n",
       "    <tr>\n",
       "      <th>...</th>\n",
       "      <td>...</td>\n",
       "      <td>...</td>\n",
       "    </tr>\n",
       "    <tr>\n",
       "      <th>69</th>\n",
       "      <td>Miscellaneous_Value</td>\n",
       "      <td>-0.021216</td>\n",
       "    </tr>\n",
       "    <tr>\n",
       "      <th>70</th>\n",
       "      <td>Month_Sold</td>\n",
       "      <td>0.046401</td>\n",
       "    </tr>\n",
       "    <tr>\n",
       "      <th>71</th>\n",
       "      <td>Year_Sold</td>\n",
       "      <td>-0.028884</td>\n",
       "    </tr>\n",
       "    <tr>\n",
       "      <th>72</th>\n",
       "      <td>Sale_Type</td>\n",
       "      <td>-0.054826</td>\n",
       "    </tr>\n",
       "    <tr>\n",
       "      <th>73</th>\n",
       "      <td>Sale_Condition</td>\n",
       "      <td>0.213168</td>\n",
       "    </tr>\n",
       "  </tbody>\n",
       "</table>\n",
       "<p>74 rows × 2 columns</p>\n",
       "</div>"
      ],
      "text/plain": [
       "                Columns  Corelation\n",
       "0        Building_Class   -0.084563\n",
       "1          Zoning_Class   -0.166896\n",
       "2            Lot_Extent    0.334988\n",
       "3              Lot_Size    0.263843\n",
       "4             Road_Type    0.041057\n",
       "..                  ...         ...\n",
       "69  Miscellaneous_Value   -0.021216\n",
       "70           Month_Sold    0.046401\n",
       "71            Year_Sold   -0.028884\n",
       "72            Sale_Type   -0.054826\n",
       "73       Sale_Condition    0.213168\n",
       "\n",
       "[74 rows x 2 columns]"
      ]
     },
     "execution_count": 53,
     "metadata": {},
     "output_type": "execute_result"
    }
   ],
   "source": [
    "cols_corr"
   ]
  },
  {
   "cell_type": "code",
   "execution_count": 54,
   "id": "177b1be6-4110-46eb-b1b1-60a8c09328c4",
   "metadata": {},
   "outputs": [],
   "source": [
    "df = cols_corr[(cols_corr.Corelation < -.3) | (cols_corr.Corelation > .3)]"
   ]
  },
  {
   "cell_type": "code",
   "execution_count": 55,
   "id": "9cd468d5-1796-4ce9-8211-95dce1537a05",
   "metadata": {},
   "outputs": [],
   "source": [
    "l1 = list(df.Columns)\n",
    "l1.append('Sale_Price')"
   ]
  },
  {
   "cell_type": "code",
   "execution_count": 56,
   "id": "fa40b740-716a-46e4-a00d-afa9670a53e0",
   "metadata": {},
   "outputs": [],
   "source": [
    "ppt1 = ppt.loc[:,l1]"
   ]
  },
  {
   "cell_type": "code",
   "execution_count": null,
   "id": "b00c78e5-2caa-4138-8444-985691c169a8",
   "metadata": {},
   "outputs": [],
   "source": []
  },
  {
   "cell_type": "markdown",
   "id": "fbb6246b-aa98-4ddb-bbf8-9a213ab4f282",
   "metadata": {},
   "source": [
    "### Decision Tree"
   ]
  },
  {
   "cell_type": "code",
   "execution_count": 37,
   "id": "b0a4d0fc-f9b1-4bf8-b0e9-fcf251a43291",
   "metadata": {},
   "outputs": [],
   "source": [
    "from sklearn.tree import DecisionTreeRegressor"
   ]
  },
  {
   "cell_type": "code",
   "execution_count": 38,
   "id": "323f4411-60d6-4ef6-8d5a-7dd8fd056847",
   "metadata": {},
   "outputs": [],
   "source": [
    "dt = DecisionTreeRegressor()"
   ]
  },
  {
   "cell_type": "code",
   "execution_count": 39,
   "id": "3fa515cb-22dd-4c7b-a86f-dfbe10da9aea",
   "metadata": {},
   "outputs": [
    {
     "data": {
      "text/plain": [
       "DecisionTreeRegressor()"
      ]
     },
     "execution_count": 39,
     "metadata": {},
     "output_type": "execute_result"
    }
   ],
   "source": [
    "dt.fit(ppt_train_x, ppt_train_y)"
   ]
  },
  {
   "cell_type": "code",
   "execution_count": 40,
   "id": "17d14cd9-6dce-4bd2-bb38-cb7c169c87bd",
   "metadata": {},
   "outputs": [],
   "source": [
    "pred = dt.predict(ppt_test_x)\n",
    "err_test = ppt_test_y - pred"
   ]
  },
  {
   "cell_type": "code",
   "execution_count": 41,
   "id": "235290f1-d331-42ed-a049-a1681bdcd49d",
   "metadata": {},
   "outputs": [
    {
     "data": {
      "text/plain": [
       "1.0"
      ]
     },
     "execution_count": 41,
     "metadata": {},
     "output_type": "execute_result"
    }
   ],
   "source": [
    "Rsquare = dt.score(ppt_train_x, ppt_train_y)\n",
    "Rsquare"
   ]
  },
  {
   "cell_type": "code",
   "execution_count": 42,
   "id": "f979212c-97b0-476c-a822-d996bc6b6e8f",
   "metadata": {},
   "outputs": [
    {
     "data": {
      "text/plain": [
       "0.5733958803056818"
      ]
     },
     "execution_count": 42,
     "metadata": {},
     "output_type": "execute_result"
    }
   ],
   "source": [
    "from sklearn.metrics import r2_score\n",
    "\n",
    "r2 = r2_score(ppt_test_y, pred)\n",
    "r2"
   ]
  },
  {
   "cell_type": "code",
   "execution_count": 43,
   "id": "fc69440a-a436-40b9-a47f-f186bdce04be",
   "metadata": {},
   "outputs": [
    {
     "data": {
      "text/plain": [
       "2613701713.537671"
      ]
     },
     "execution_count": 43,
     "metadata": {},
     "output_type": "execute_result"
    }
   ],
   "source": [
    "MSE = np.mean(np.square(err_test))\n",
    "MSE"
   ]
  },
  {
   "cell_type": "code",
   "execution_count": 44,
   "id": "6544c8b4-b1d5-4bcc-9873-25dade2a6ab5",
   "metadata": {},
   "outputs": [
    {
     "data": {
      "text/plain": [
       "51124.37494520271"
      ]
     },
     "execution_count": 44,
     "metadata": {},
     "output_type": "execute_result"
    }
   ],
   "source": [
    "RMSE = np.sqrt(MSE)\n",
    "RMSE"
   ]
  },
  {
   "cell_type": "code",
   "execution_count": 45,
   "id": "a6df0c8b-83fc-4918-95c1-6c95c8ee7dbc",
   "metadata": {},
   "outputs": [
    {
     "data": {
      "text/plain": [
       "15.821298758838223"
      ]
     },
     "execution_count": 45,
     "metadata": {},
     "output_type": "execute_result"
    }
   ],
   "source": [
    "MAPE = np.mean(np.abs(err_test*100/ppt_test_y))\n",
    "MAPE"
   ]
  },
  {
   "cell_type": "markdown",
   "id": "13d10868-bfe8-4fe0-9833-9c18474fc02e",
   "metadata": {},
   "source": [
    "### Feature Importance"
   ]
  },
  {
   "cell_type": "code",
   "execution_count": 46,
   "id": "89446e23-b4a8-4ee7-9b4d-dd7f8954b249",
   "metadata": {},
   "outputs": [
    {
     "data": {
      "text/html": [
       "<div>\n",
       "<style scoped>\n",
       "    .dataframe tbody tr th:only-of-type {\n",
       "        vertical-align: middle;\n",
       "    }\n",
       "\n",
       "    .dataframe tbody tr th {\n",
       "        vertical-align: top;\n",
       "    }\n",
       "\n",
       "    .dataframe thead th {\n",
       "        text-align: right;\n",
       "    }\n",
       "</style>\n",
       "<table border=\"1\" class=\"dataframe\">\n",
       "  <thead>\n",
       "    <tr style=\"text-align: right;\">\n",
       "      <th></th>\n",
       "      <th>columns</th>\n",
       "      <th>Score</th>\n",
       "    </tr>\n",
       "  </thead>\n",
       "  <tbody>\n",
       "    <tr>\n",
       "      <th>15</th>\n",
       "      <td>Overall_Material</td>\n",
       "      <td>5.831570e-01</td>\n",
       "    </tr>\n",
       "    <tr>\n",
       "      <th>44</th>\n",
       "      <td>Grade_Living_Area</td>\n",
       "      <td>9.578696e-02</td>\n",
       "    </tr>\n",
       "    <tr>\n",
       "      <th>41</th>\n",
       "      <td>First_Floor_Area</td>\n",
       "      <td>6.864068e-02</td>\n",
       "    </tr>\n",
       "    <tr>\n",
       "      <th>47</th>\n",
       "      <td>Full_Bathroom_Above_Grade</td>\n",
       "      <td>4.906203e-02</td>\n",
       "    </tr>\n",
       "    <tr>\n",
       "      <th>36</th>\n",
       "      <td>Total_Basement_Area</td>\n",
       "      <td>4.784742e-02</td>\n",
       "    </tr>\n",
       "    <tr>\n",
       "      <th>...</th>\n",
       "      <td>...</td>\n",
       "      <td>...</td>\n",
       "    </tr>\n",
       "    <tr>\n",
       "      <th>67</th>\n",
       "      <td>Screen_Lobby_Area</td>\n",
       "      <td>4.213013e-07</td>\n",
       "    </tr>\n",
       "    <tr>\n",
       "      <th>62</th>\n",
       "      <td>Pavedd_Drive</td>\n",
       "      <td>2.696328e-07</td>\n",
       "    </tr>\n",
       "    <tr>\n",
       "      <th>12</th>\n",
       "      <td>Condition2</td>\n",
       "      <td>0.000000e+00</td>\n",
       "    </tr>\n",
       "    <tr>\n",
       "      <th>7</th>\n",
       "      <td>Utility_Type</td>\n",
       "      <td>0.000000e+00</td>\n",
       "    </tr>\n",
       "    <tr>\n",
       "      <th>20</th>\n",
       "      <td>Roof_Quality</td>\n",
       "      <td>0.000000e+00</td>\n",
       "    </tr>\n",
       "  </tbody>\n",
       "</table>\n",
       "<p>74 rows × 2 columns</p>\n",
       "</div>"
      ],
      "text/plain": [
       "                      columns         Score\n",
       "15           Overall_Material  5.831570e-01\n",
       "44          Grade_Living_Area  9.578696e-02\n",
       "41           First_Floor_Area  6.864068e-02\n",
       "47  Full_Bathroom_Above_Grade  4.906203e-02\n",
       "36        Total_Basement_Area  4.784742e-02\n",
       "..                        ...           ...\n",
       "67          Screen_Lobby_Area  4.213013e-07\n",
       "62               Pavedd_Drive  2.696328e-07\n",
       "12                 Condition2  0.000000e+00\n",
       "7                Utility_Type  0.000000e+00\n",
       "20               Roof_Quality  0.000000e+00\n",
       "\n",
       "[74 rows x 2 columns]"
      ]
     },
     "execution_count": 46,
     "metadata": {},
     "output_type": "execute_result"
    }
   ],
   "source": [
    "dt.feature_importances_\n",
    "feature_importance = pd.DataFrame()\n",
    "feature_importance['columns'] = ppt_train_x.columns\n",
    "feature_importance['Score'] = dt.feature_importances_\n",
    "feature_importance.sort_values('Score', ascending=False)"
   ]
  },
  {
   "cell_type": "code",
   "execution_count": null,
   "id": "b5067120-991b-4faf-a4d7-3c58cbab5f90",
   "metadata": {},
   "outputs": [],
   "source": []
  },
  {
   "cell_type": "code",
   "execution_count": null,
   "id": "dca53c20-eda9-413d-81ef-f279bd089930",
   "metadata": {},
   "outputs": [],
   "source": []
  },
  {
   "cell_type": "markdown",
   "id": "ea95f969-511d-4827-a214-10251847a690",
   "metadata": {},
   "source": [
    "### Random Forest"
   ]
  },
  {
   "cell_type": "code",
   "execution_count": 28,
   "id": "bc4271d5-3c82-4e03-bd88-268e1da874cf",
   "metadata": {},
   "outputs": [],
   "source": [
    "from sklearn.ensemble import RandomForestRegressor"
   ]
  },
  {
   "cell_type": "code",
   "execution_count": 29,
   "id": "9cbf3fe9-57fb-415e-9093-b99c68a4fabc",
   "metadata": {},
   "outputs": [],
   "source": [
    "rf = RandomForestRegressor(n_estimators=150, max_depth=5)"
   ]
  },
  {
   "cell_type": "code",
   "execution_count": 30,
   "id": "035abb6d-2caf-4f31-a9aa-92ba286c8d77",
   "metadata": {},
   "outputs": [
    {
     "data": {
      "text/plain": [
       "RandomForestRegressor(max_depth=5, n_estimators=150)"
      ]
     },
     "execution_count": 30,
     "metadata": {},
     "output_type": "execute_result"
    }
   ],
   "source": [
    "rf.fit( ppt_train_x, ppt_train_y)"
   ]
  },
  {
   "cell_type": "code",
   "execution_count": 31,
   "id": "34c0eed4-45e2-4dab-9d9c-d3551016a3cc",
   "metadata": {},
   "outputs": [],
   "source": [
    "pred = rf.predict(ppt_test_x)\n",
    "err_test = ppt_test_y - pred"
   ]
  },
  {
   "cell_type": "code",
   "execution_count": 32,
   "id": "0daf00d2-e1c7-4282-ab8e-675216d9dfef",
   "metadata": {},
   "outputs": [
    {
     "name": "stdout",
     "output_type": "stream",
     "text": [
      "0.9217214199531661\n",
      "1430927200.3085787\n",
      "37827.598394671826\n",
      "12.264486167223186\n"
     ]
    }
   ],
   "source": [
    "Rsquare = rf.score(ppt_train_x, ppt_train_y)\n",
    "MSE = np.mean(np.square(err_test))\n",
    "RMSE = np.sqrt(MSE)\n",
    "MAPE = np.mean(np.abs(err_test*100/ppt_test_y))\n",
    "\n",
    "print(Rsquare)\n",
    "print(MSE)\n",
    "print(RMSE)\n",
    "print(MAPE)"
   ]
  },
  {
   "cell_type": "markdown",
   "id": "0c7159a5-efa7-418f-9283-bdcf9dda0f3b",
   "metadata": {},
   "source": [
    "### Feature Importance"
   ]
  },
  {
   "cell_type": "code",
   "execution_count": 33,
   "id": "88b3f398-a376-4a08-8004-0c25fc3bcac6",
   "metadata": {},
   "outputs": [
    {
     "data": {
      "text/html": [
       "<div>\n",
       "<style scoped>\n",
       "    .dataframe tbody tr th:only-of-type {\n",
       "        vertical-align: middle;\n",
       "    }\n",
       "\n",
       "    .dataframe tbody tr th {\n",
       "        vertical-align: top;\n",
       "    }\n",
       "\n",
       "    .dataframe thead th {\n",
       "        text-align: right;\n",
       "    }\n",
       "</style>\n",
       "<table border=\"1\" class=\"dataframe\">\n",
       "  <thead>\n",
       "    <tr style=\"text-align: right;\">\n",
       "      <th></th>\n",
       "      <th>columns</th>\n",
       "      <th>Score</th>\n",
       "    </tr>\n",
       "  </thead>\n",
       "  <tbody>\n",
       "    <tr>\n",
       "      <th>15</th>\n",
       "      <td>Overall_Material</td>\n",
       "      <td>6.165240e-01</td>\n",
       "    </tr>\n",
       "    <tr>\n",
       "      <th>44</th>\n",
       "      <td>Grade_Living_Area</td>\n",
       "      <td>1.118409e-01</td>\n",
       "    </tr>\n",
       "    <tr>\n",
       "      <th>36</th>\n",
       "      <td>Total_Basement_Area</td>\n",
       "      <td>4.705514e-02</td>\n",
       "    </tr>\n",
       "    <tr>\n",
       "      <th>41</th>\n",
       "      <td>First_Floor_Area</td>\n",
       "      <td>4.383544e-02</td>\n",
       "    </tr>\n",
       "    <tr>\n",
       "      <th>58</th>\n",
       "      <td>Garage_Size</td>\n",
       "      <td>3.127378e-02</td>\n",
       "    </tr>\n",
       "    <tr>\n",
       "      <th>...</th>\n",
       "      <td>...</td>\n",
       "      <td>...</td>\n",
       "    </tr>\n",
       "    <tr>\n",
       "      <th>66</th>\n",
       "      <td>Three_Season_Lobby_Area</td>\n",
       "      <td>3.135987e-10</td>\n",
       "    </tr>\n",
       "    <tr>\n",
       "      <th>4</th>\n",
       "      <td>Road_Type</td>\n",
       "      <td>0.000000e+00</td>\n",
       "    </tr>\n",
       "    <tr>\n",
       "      <th>7</th>\n",
       "      <td>Utility_Type</td>\n",
       "      <td>0.000000e+00</td>\n",
       "    </tr>\n",
       "    <tr>\n",
       "      <th>69</th>\n",
       "      <td>Miscellaneous_Value</td>\n",
       "      <td>0.000000e+00</td>\n",
       "    </tr>\n",
       "    <tr>\n",
       "      <th>40</th>\n",
       "      <td>Electrical_System</td>\n",
       "      <td>0.000000e+00</td>\n",
       "    </tr>\n",
       "  </tbody>\n",
       "</table>\n",
       "<p>74 rows × 2 columns</p>\n",
       "</div>"
      ],
      "text/plain": [
       "                    columns         Score\n",
       "15         Overall_Material  6.165240e-01\n",
       "44        Grade_Living_Area  1.118409e-01\n",
       "36      Total_Basement_Area  4.705514e-02\n",
       "41         First_Floor_Area  4.383544e-02\n",
       "58              Garage_Size  3.127378e-02\n",
       "..                      ...           ...\n",
       "66  Three_Season_Lobby_Area  3.135987e-10\n",
       "4                 Road_Type  0.000000e+00\n",
       "7              Utility_Type  0.000000e+00\n",
       "69      Miscellaneous_Value  0.000000e+00\n",
       "40        Electrical_System  0.000000e+00\n",
       "\n",
       "[74 rows x 2 columns]"
      ]
     },
     "execution_count": 33,
     "metadata": {},
     "output_type": "execute_result"
    }
   ],
   "source": [
    "rf.feature_importances_\n",
    "feature_importance = pd.DataFrame()\n",
    "feature_importance['columns'] = ppt_train_x.columns\n",
    "feature_importance['Score'] = rf.feature_importances_\n",
    "feature_importance.sort_values('Score', ascending=False)"
   ]
  },
  {
   "cell_type": "code",
   "execution_count": null,
   "id": "27c80997-a985-4213-9726-c184cd01b454",
   "metadata": {},
   "outputs": [],
   "source": []
  },
  {
   "cell_type": "markdown",
   "id": "807e077d-71ed-4f33-9b57-3953c3e93e74",
   "metadata": {
    "tags": []
   },
   "source": [
    "#### hyper parameter turning"
   ]
  },
  {
   "cell_type": "code",
   "execution_count": 272,
   "id": "8861f5e2-dbb5-4054-b64a-a8bd59b5a915",
   "metadata": {},
   "outputs": [],
   "source": [
    "search_dict = {\"max_depth\": range(1,10)}"
   ]
  },
  {
   "cell_type": "code",
   "execution_count": 273,
   "id": "8f04623e-c02b-478b-8a94-8d5b7a8c36d7",
   "metadata": {},
   "outputs": [],
   "source": [
    "from sklearn.model_selection import GridSearchCV"
   ]
  },
  {
   "cell_type": "code",
   "execution_count": 274,
   "id": "12ca6a0e-8366-468d-ae18-715c089b56fe",
   "metadata": {},
   "outputs": [],
   "source": [
    "grid = GridSearchCV(dt, param_grid = search_dict)"
   ]
  },
  {
   "cell_type": "code",
   "execution_count": 275,
   "id": "9bdfec3f-3426-4e43-9288-0dd77a8ac31a",
   "metadata": {},
   "outputs": [
    {
     "data": {
      "text/plain": [
       "GridSearchCV(estimator=DecisionTreeRegressor(),\n",
       "             param_grid={'max_depth': range(1, 10)})"
      ]
     },
     "execution_count": 275,
     "metadata": {},
     "output_type": "execute_result"
    }
   ],
   "source": [
    "grid.fit(ppt_train_x , ppt_train_y)"
   ]
  },
  {
   "cell_type": "code",
   "execution_count": 276,
   "id": "a3950861-c2d2-40b7-a7d4-7c665d9ad791",
   "metadata": {},
   "outputs": [
    {
     "name": "stdout",
     "output_type": "stream",
     "text": [
      "{'max_depth': 6}\n",
      "0.7499287743870469\n"
     ]
    }
   ],
   "source": [
    "grid.predict(ppt_test_x)\n",
    "print(grid.best_params_)\n",
    "print(grid.best_score_)"
   ]
  },
  {
   "cell_type": "code",
   "execution_count": null,
   "id": "0aa25f9d-2c0d-4095-8528-4fa891aa05b2",
   "metadata": {},
   "outputs": [],
   "source": []
  },
  {
   "cell_type": "markdown",
   "id": "eb689664-36d4-45c7-88ff-157db29024e1",
   "metadata": {},
   "source": [
    "#### Ridge and Lasso"
   ]
  },
  {
   "cell_type": "code",
   "execution_count": 278,
   "id": "22cdf63b-c98e-467d-bc57-986c62a9f5c6",
   "metadata": {},
   "outputs": [
    {
     "data": {
      "text/plain": [
       "0.8458990067114835"
      ]
     },
     "execution_count": 278,
     "metadata": {},
     "output_type": "execute_result"
    }
   ],
   "source": [
    "from sklearn.linear_model import Ridge\n",
    "rid = Ridge()\n",
    "rid.fit(ppt_train_x , ppt_train_y)\n",
    "rid.score(ppt_train_x , ppt_train_y)"
   ]
  },
  {
   "cell_type": "code",
   "execution_count": 281,
   "id": "1f2202d2-aa4e-4769-9017-6b96f995c144",
   "metadata": {},
   "outputs": [
    {
     "data": {
      "text/plain": [
       "0.8460170397780019"
      ]
     },
     "execution_count": 281,
     "metadata": {},
     "output_type": "execute_result"
    }
   ],
   "source": [
    "from sklearn.linear_model import Lasso\n",
    "las = Lasso()\n",
    "las.fit(ppt_train_x , ppt_train_y)\n",
    "las.score(ppt_train_x, ppt_train_y)"
   ]
  },
  {
   "cell_type": "code",
   "execution_count": null,
   "id": "11b20567-8c73-4c01-81ec-d1ff49d1aaf7",
   "metadata": {},
   "outputs": [],
   "source": []
  },
  {
   "cell_type": "markdown",
   "id": "7bb1b206-d270-4254-9315-b73fc32e19b0",
   "metadata": {},
   "source": [
    "####  Boosting on decision tree"
   ]
  },
  {
   "cell_type": "code",
   "execution_count": 282,
   "id": "7e6963d7-a74d-4203-b378-3254a1332586",
   "metadata": {},
   "outputs": [],
   "source": [
    "from sklearn.ensemble import AdaBoostRegressor\n",
    "ab = AdaBoostRegressor(dt, n_estimators= 50)"
   ]
  },
  {
   "cell_type": "code",
   "execution_count": 284,
   "id": "0f161d26-b36e-4283-a8c1-b84543d78762",
   "metadata": {},
   "outputs": [
    {
     "data": {
      "text/plain": [
       "AdaBoostRegressor(base_estimator=DecisionTreeRegressor())"
      ]
     },
     "execution_count": 284,
     "metadata": {},
     "output_type": "execute_result"
    }
   ],
   "source": [
    "ab.fit(ppt_train_x, ppt_train_y)"
   ]
  },
  {
   "cell_type": "code",
   "execution_count": 285,
   "id": "42d8ddf2-6174-457d-999e-12f7ec644dae",
   "metadata": {},
   "outputs": [],
   "source": [
    "pred_boost = ab.predict(ppt_test_x)"
   ]
  },
  {
   "cell_type": "code",
   "execution_count": 286,
   "id": "848b1e98-ab35-4b86-9909-68c5782dcdd6",
   "metadata": {},
   "outputs": [
    {
     "data": {
      "text/plain": [
       "0.9997615184306179"
      ]
     },
     "execution_count": 286,
     "metadata": {},
     "output_type": "execute_result"
    }
   ],
   "source": [
    "ab.score(ppt_train_x, ppt_train_y)"
   ]
  },
  {
   "cell_type": "markdown",
   "id": "bdbd3efe-36e8-401b-abd8-d9a99295f8ee",
   "metadata": {},
   "source": [
    "####  Boosting on random forest"
   ]
  },
  {
   "cell_type": "code",
   "execution_count": 298,
   "id": "a41a1cb6-41c1-4b2a-bdf8-0368e62834e6",
   "metadata": {},
   "outputs": [
    {
     "data": {
      "text/plain": [
       "0.9549039015147616"
      ]
     },
     "execution_count": 298,
     "metadata": {},
     "output_type": "execute_result"
    }
   ],
   "source": [
    "ab_rf = AdaBoostRegressor(rf)\n",
    "ab_rf.fit(ppt_train_x,ppt_train_y)\n",
    "pred_ab_rf = ab_rf.predict(ppt_test_x)\n",
    "ab_rf.score(ppt_train_x, ppt_train_y)"
   ]
  },
  {
   "cell_type": "code",
   "execution_count": null,
   "id": "b34cd9c9-dfc7-4eb8-968d-45918c84a01a",
   "metadata": {},
   "outputs": [],
   "source": []
  },
  {
   "cell_type": "markdown",
   "id": "fcebcd08-561d-4124-9e20-5b15a14d71de",
   "metadata": {},
   "source": [
    "#### KNN"
   ]
  },
  {
   "cell_type": "code",
   "execution_count": 297,
   "id": "19786dcc-5673-468f-af61-dab330b07317",
   "metadata": {},
   "outputs": [
    {
     "data": {
      "text/plain": [
       "0.6098062503378587"
      ]
     },
     "execution_count": 297,
     "metadata": {},
     "output_type": "execute_result"
    }
   ],
   "source": [
    "from sklearn.neighbors import KNeighborsRegressor\n",
    "knn = KNeighborsRegressor(n_neighbors=26)\n",
    "knn.fit(ppt_train_x, ppt_train_y)\n",
    "pred = knn.predict(ppt_test_x)\n",
    "knn.score(ppt_train_x, ppt_train_y)"
   ]
  },
  {
   "cell_type": "code",
   "execution_count": null,
   "id": "ad9168b3-99d3-4a4c-8bdb-12dae6abb0a8",
   "metadata": {},
   "outputs": [],
   "source": []
  },
  {
   "cell_type": "markdown",
   "id": "78df8333-01ab-4142-b263-21c888d8c995",
   "metadata": {},
   "source": [
    "## Final Outcome\n",
    "Comparing all the models from the above, R-squared, MSE, RMSE, MAPE for Decision Tree Regressor is better(i.e MSE and MAPE is least and R-squared is more) than other models so Decision Tree is the winning Model..."
   ]
  },
  {
   "cell_type": "code",
   "execution_count": null,
   "id": "beafedda-cdf6-4d32-85b8-2791da61276a",
   "metadata": {},
   "outputs": [],
   "source": []
  }
 ],
 "metadata": {
  "kernelspec": {
   "display_name": "Python 3 (ipykernel)",
   "language": "python",
   "name": "python3"
  },
  "language_info": {
   "codemirror_mode": {
    "name": "ipython",
    "version": 3
   },
   "file_extension": ".py",
   "mimetype": "text/x-python",
   "name": "python",
   "nbconvert_exporter": "python",
   "pygments_lexer": "ipython3",
   "version": "3.9.12"
  }
 },
 "nbformat": 4,
 "nbformat_minor": 5
}
